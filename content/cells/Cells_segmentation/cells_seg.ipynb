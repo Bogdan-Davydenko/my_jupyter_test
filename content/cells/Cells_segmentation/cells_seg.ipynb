{
  "metadata": {
    "kernelspec": {
      "name": "python",
      "display_name": "Python (Pyodide)",
      "language": "python"
    },
    "language_info": {
      "codemirror_mode": {
        "name": "python",
        "version": 3
      },
      "file_extension": ".py",
      "mimetype": "text/x-python",
      "name": "python",
      "nbconvert_exporter": "python",
      "pygments_lexer": "ipython3",
      "version": "3.8"
    }
  },
  "nbformat_minor": 4,
  "nbformat": 4,
  "cells": [
    {
      "cell_type": "code",
      "source": "import numpy as np\nimport cv2 as cv\nfrom matplotlib import pyplot as plt\nimport os\n\n# Компактная версия:\n# Данные\n\n\ndef max_number(img, max_lvl):\n    # Получение чб\n    gray = cv.cvtColor(img, cv.COLOR_RGB2GRAY)\n    # Получение бинарного изображения\n    maxl = 0\n    maxn = 0\n    for lvl in range(1, max_lvl + 1):\n        ret, thresh = cv.threshold(gray, lvl, 255, 0)\n        thresh = cv.bitwise_not(thresh)\n        # Очистка изображение от шумов\n        kernel = np.ones((3, 3), np.uint8)\n        opening = cv.morphologyEx(thresh, cv.MORPH_OPEN, kernel, iterations=1)\n        # \"Уверенный\" передний план\n        dist_transform = cv.distanceTransform(opening, cv.DIST_L2, 5)\n        ret, sure_fg = cv.threshold(dist_transform, 0.1 * dist_transform.max(), 255, 0)\n        sure_fg = np.uint8(sure_fg)\n        number, markers = cv.connectedComponents(sure_fg)\n        number = number - 1\n        if (number > maxn):\n            maxn = number\n            maxl = lvl\n    return maxl, maxn\n\n\ndef count_cells(img_name, max_lvl, save_fig=False):\n    img = cv.imread(img_name)\n    assert img is not None, \"file could not be read, check with os.path.exists()\"\n    # Предварительная сегментация, определение уровня бинаризации, максимизирующего найденные клетки\n    lvl, gbg = max_number(img, max_lvl)\n\n    # Получение чб\n    gray = cv.cvtColor(img, cv.COLOR_RGB2GRAY)\n\n    plt.figure(figsize=(10, 8))\n    plt.subplot(2, 2, 1)\n    plt.title(\"Ч/б, уровень бинаризации \" + str(lvl))\n    plt.axis('off')\n    plt.imshow(cv.cvtColor(gray, cv.COLOR_GRAY2RGB))\n    # Получение бинарного изображения\n    ret, thresh = cv.threshold(gray, lvl, 255, 0)\n    thresh = cv.bitwise_not(thresh)\n    # Очистка изображение от шумов\n    kernel = np.ones((3, 3), np.uint8)\n    opening = cv.morphologyEx(thresh, cv.MORPH_OPEN, kernel, iterations=1)\n    # \"Уверенный\" задний план\n    sure_bg = cv.dilate(opening, kernel, iterations=15)\n    # \"Уверенный\" передний план\n    dist_transform = cv.distanceTransform(opening, cv.DIST_L2, 5)\n    ret, sure_fg = cv.threshold(dist_transform, 0.1 * dist_transform.max(), 255, 0)\n    sure_fg = np.uint8(sure_fg)\n    # Серая зона\n    unknown = cv.subtract(sure_bg, sure_fg)\n\n    # Определение количества объектов и маркеров\n    number, markers = cv.connectedComponents(sure_fg)\n    number = number - 1\n\n    plt.subplot(2, 2, 2)\n    plt.title(\"Обнаружено \" + str(number) + \" клеток\")\n    plt.axis('off')\n    plt.imshow(cv.cvtColor(unknown, cv.COLOR_GRAY2RGB))\n\n    markers = markers + 1\n    markers[unknown == 255] = 0\n\n    # Cегментация\n    markers = cv.watershed(cv.cvtColor(gray, cv.COLOR_GRAY2RGB), markers)\n    segmented_img = np.array(img)\n    segmented_img[markers == -1] = [255, 0, 0]\n\n    #print(number)\n    plt.subplot(2, 2, 3)\n    plt.title(\"Маркеры\")\n    plt.axis('off')\n    plt.imshow(markers)\n\n    plt.subplot(2, 2, 4)\n    plt.title(\"Границы\")\n    plt.axis('off')\n    plt.imshow(segmented_img)\n    if save_fig:\n        plt.savefig(img_name.replace('.jpg', '') + '_segmentation_plots.png')\n    else:\n        plt.show()\n    return number\n\n\nwith open('config.txt') as f:\n    max_lvl = int(f.readline())\n\n\nwith open('results.txt', 'w') as f:\n    for file in os.listdir():\n        if file.endswith(\".jpg\"):\n            n = count_cells(file, max_lvl, True)\n            f.write(file + \" \" + str(n) + \"\\n\")\n",
      "metadata": {
        "trusted": true
      },
      "outputs": [],
      "execution_count": 1
    },
    {
      "cell_type": "code",
      "source": "",
      "metadata": {
        "trusted": true
      },
      "outputs": [],
      "execution_count": null
    }
  ]
}